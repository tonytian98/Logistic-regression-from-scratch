{
 "cells": [
  {
   "cell_type": "code",
   "execution_count": 1,
   "metadata": {},
   "outputs": [],
   "source": [
    "####a classificaton problem using logit regression\n",
    "import numpy as np\n",
    "import math as mt\n",
    "import pandas as pd\n",
    "import matplotlib.pyplot as plt\n",
    "\n",
    "def p(x,b):\n",
    "    dot=float(np.matmul(b.reshape(1,3),x.reshape(3,1))[0])\n",
    "    return mt.e**dot/(1+mt.e**dot)\n",
    "\n",
    "\n",
    "def firstd(y,x,b):\n",
    "    sum=np.zeros(x[0].reshape(3,1).shape)\n",
    "    for i in range(len(y)):\n",
    "        sum+=x[i].reshape(3,1)*(y[i]-p(x[i],b))\n",
    "    return -sum\n",
    "\n",
    "def secondd(y,x,b):\n",
    "    sum=np.zeros(np.matmul(x[0].reshape(3,1),x[0].reshape(1,3)).shape)\n",
    "    for i in range(len(y)):\n",
    "        sum+=np.matmul(x[i].reshape(3,1),x[i].reshape(1,3))*p(x[i],b)*(1-p(x[i],b))\n",
    "    return sum\n",
    "\n",
    "    \n",
    "\n",
    "\n",
    "# use newton method to get coeffient vector beta\n",
    "def getbetanewton(y,x,b):\n",
    "    return b-np.matmul(np.linalg.inv(secondd(y,x,b)),firstd(y,x,b))\n",
    "# use gradient descent method to get coeffient vector beta\n",
    "def getbetadecent(y,x,b,n):\n",
    "    return b-firstd(y,x,b)/n"
   ]
  },
  {
   "cell_type": "code",
   "execution_count": 2,
   "metadata": {},
   "outputs": [],
   "source": [
    "#####excel directory is local\n",
    "data = pd.read_excel(r'C:\\Users\\Admin\\Downloads\\dingguagua.xlsx')\n",
    "x = np.array(data[['midu','hantanglv','constant']])\n",
    "y=np.array(data[['goodgua']]).reshape(-1)\n",
    "b=np.array([1/2,1/2,1/2]).reshape(3,1)"
   ]
  },
  {
   "cell_type": "code",
   "execution_count": 9,
   "metadata": {},
   "outputs": [
    {
     "data": {
      "text/plain": [
       "<matplotlib.collections.PathCollection at 0x22fe01697f0>"
      ]
     },
     "execution_count": 9,
     "metadata": {},
     "output_type": "execute_result"
    },
    {
     "data": {
      "image/png": "[encoded data removed]",
      "text/plain": [
       "<Figure size 432x288 with 1 Axes>"
      ]
     },
     "metadata": {
      "needs_background": "light"
     },
     "output_type": "display_data"
    }
   ],
   "source": [
    "###visualise original data\n",
    "plt.scatter(x[:,0],x[:,1],c=y)\n"
   ]
  },
  {
   "cell_type": "code",
   "execution_count": 14,
   "metadata": {},
   "outputs": [
    {
     "name": "stdout",
     "output_type": "stream",
     "text": [
      "coeffients(newton):\n",
      " [[ 3.15832966]\n",
      " [12.52119579]\n",
      " [-4.42886451]]\n",
      "precision: 0.7058823529411765\n",
      "coeffients(descent):\n",
      " [[ 1.36916686]\n",
      " [ 3.88584692]\n",
      " [-1.65138214]]\n",
      "precision: 0.6470588235294118\n"
     ]
    },
    {
     "data": {
      "image/png": "[encoded data removed]",
      "text/plain": [
       "<Figure size 432x288 with 1 Axes>"
      ]
     },
     "metadata": {
      "needs_background": "light"
     },
     "output_type": "display_data"
    }
   ],
   "source": [
    "plt.scatter(x[:,0],x[:,1],c=y,label=['good','bad'])\n",
    "plt.legend()\n",
    "\n",
    "### Newton's method\n",
    "#number of iter=10000\n",
    "for i in range(10000):\n",
    "    b=getbetanewton(y,x,b).reshape(3,1)\n",
    "bnewton=b\n",
    "\n",
    "##visualize the desicion boundary\n",
    "line=np.linspace(0,1,10000)\n",
    "yline=[]\n",
    "for i in line:\n",
    "    yx=-1/b[1]*(b[0]*i+b[2])\n",
    "    yline.append(yx)\n",
    "plt.plot(line,yline)\n",
    "\n",
    "\n",
    "### Gradient descent\n",
    "b=np.array([1/2,1/2,1/2]).reshape(3,1)\n",
    "for i in range(10000):\n",
    "    b=getbetadecent(y,x,b,i+1).reshape(3,1)\n",
    "line=np.linspace(0,1,10000)\n",
    "yline=[]\n",
    "for i in line:\n",
    "    yx=-1/b[1]*(b[0]*i+b[2])\n",
    "    yline.append(yx)\n",
    "plt.plot(line,yline)\n",
    "plt.legend(['newton','decent'])\n",
    "bdecent=b\n",
    "\n",
    "###get precision of classification (right match: 1, mismatch: 0)\n",
    "def precision(y,X,b):\n",
    "    sum=0\n",
    "    for i in range(len(y)):\n",
    "        if p(x[i],b)>=0.5:\n",
    "            sum+=abs(0-y[i])\n",
    "        if p(x[i],b)<0.5:\n",
    "            sum+=abs(1-y[i])\n",
    "    return sum/len(y)\n",
    "\n",
    "###print coeffients and results  [constant, x1, x2]\n",
    "print('coeffients(newton):\\n',bnewton)\n",
    "print('precision:',precision(y,x,bnewton))\n",
    "print('coeffients(descent):\\n',bdecent)\n",
    "print('precision:',precision(y,x,bdecent))\n",
    "    "
   ]
  },
  {
   "cell_type": "code",
   "execution_count": null,
   "metadata": {},
   "outputs": [],
   "source": []
  }
 ],
 "metadata": {
  "kernelspec": {
   "display_name": "Python 3",
   "language": "python",
   "name": "python3"
  },
  "language_info": {
   "codemirror_mode": {
    "name": "ipython",
    "version": 3
   },
   "file_extension": ".py",
   "mimetype": "text/x-python",
   "name": "python",
   "nbconvert_exporter": "python",
   "pygments_lexer": "ipython3",
   "version": "3.7.1"
  }
 },
 "nbformat": 4,
 "nbformat_minor": 2
}
